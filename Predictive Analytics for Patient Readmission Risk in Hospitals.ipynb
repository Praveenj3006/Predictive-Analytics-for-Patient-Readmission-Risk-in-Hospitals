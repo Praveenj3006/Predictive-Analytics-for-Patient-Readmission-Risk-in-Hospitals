{
 "cells": [
  {
   "cell_type": "markdown",
   "id": "a3cd160e",
   "metadata": {},
   "source": [
    "# Predictive Analytics for Patient Readmission Risk in Hospitals"
   ]
  },
  {
   "cell_type": "code",
   "execution_count": 2,
   "id": "9b79f548",
   "metadata": {},
   "outputs": [],
   "source": [
    "import pandas as pd\n",
    "data = pd.read_csv('/Users/praveen/Desktop/patient_readmissions.csv')"
   ]
  },
  {
   "cell_type": "code",
   "execution_count": 3,
   "id": "8d0a736a",
   "metadata": {},
   "outputs": [
    {
     "name": "stdout",
     "output_type": "stream",
     "text": [
      "  PATIENT_ID\\tAGE\\tGENDER\\tMEDICAL_HISTORY\\tLENGTH_OF_STAY\\tDISCHARGE_DIAGNOSIS\\tTREATMENT_RECEIVED\\tREADMITTED\n",
      "0     1\\t32\\tFemale\\tNone\\t3\\tCOPD\\tChemotherapy\\tNo                                                           \n",
      "1         2\\t21\\tMale\\tNone\\t9\\tCancer\\tSurgery\\tYes                                                           \n",
      "2  3\\t53\\tMale\\tCardiovascular Disease\\t23\\tCance...                                                           \n",
      "3  4\\t49\\tFemale\\tHypertension\\t19\\tCancer\\tDialy...                                                           \n",
      "4  5\\t46\\tFemale\\tHypertension\\t21\\tCOPD\\tDialysi...                                                           \n"
     ]
    }
   ],
   "source": [
    "print(data.head())"
   ]
  },
  {
   "cell_type": "code",
   "execution_count": 4,
   "id": "db9afc49",
   "metadata": {},
   "outputs": [
    {
     "name": "stdout",
     "output_type": "stream",
     "text": [
      "PATIENT_ID\\tAGE\\tGENDER\\tMEDICAL_HISTORY\\tLENGTH_OF_STAY\\tDISCHARGE_DIAGNOSIS\\tTREATMENT_RECEIVED\\tREADMITTED    0\n",
      "dtype: int64\n"
     ]
    }
   ],
   "source": [
    "print(data.isnull().sum())"
   ]
  },
  {
   "cell_type": "markdown",
   "id": "477fc5e5",
   "metadata": {},
   "source": [
    "# Cleaning the Data"
   ]
  },
  {
   "cell_type": "code",
   "execution_count": 5,
   "id": "4e668210",
   "metadata": {},
   "outputs": [],
   "source": [
    "data_clean = data.dropna()"
   ]
  },
  {
   "cell_type": "code",
   "execution_count": 6,
   "id": "9854f0a9",
   "metadata": {},
   "outputs": [
    {
     "name": "stdout",
     "output_type": "stream",
     "text": [
      "PATIENT_ID\\tAGE\\tGENDER\\tMEDICAL_HISTORY\\tLENGTH_OF_STAY\\tDISCHARGE_DIAGNOSIS\\tTREATMENT_RECEIVED\\tREADMITTED    object\n",
      "dtype: object\n"
     ]
    }
   ],
   "source": [
    "print(data.dtypes)"
   ]
  },
  {
   "cell_type": "markdown",
   "id": "eb40ec71",
   "metadata": {},
   "source": [
    "# Performing Basic Analysis"
   ]
  },
  {
   "cell_type": "code",
   "execution_count": 8,
   "id": "92988bd8",
   "metadata": {},
   "outputs": [
    {
     "name": "stdout",
     "output_type": "stream",
     "text": [
      "       PATIENT_ID\\tAGE\\tGENDER\\tMEDICAL_HISTORY\\tLENGTH_OF_STAY\\tDISCHARGE_DIAGNOSIS\\tTREATMENT_RECEIVED\\tREADMITTED\n",
      "count                                                1000                                                           \n",
      "unique                                               1000                                                           \n",
      "top        1\\t32\\tFemale\\tNone\\t3\\tCOPD\\tChemotherapy\\tNo                                                           \n",
      "freq                                                    1                                                           \n"
     ]
    }
   ],
   "source": [
    "print(data_clean.describe())"
   ]
  },
  {
   "cell_type": "code",
   "execution_count": 10,
   "id": "04c8713c",
   "metadata": {},
   "outputs": [
    {
     "name": "stdout",
     "output_type": "stream",
     "text": [
      "Index(['PATIENT_ID\\tAGE\\tGENDER\\tMEDICAL_HISTORY\\tLENGTH_OF_STAY\\tDISCHARGE_DIAGNOSIS\\tTREATMENT_RECEIVED\\tREADMITTED'], dtype='object')\n"
     ]
    }
   ],
   "source": [
    "print(data_clean.columns)"
   ]
  },
  {
   "cell_type": "code",
   "execution_count": 15,
   "id": "e4682242",
   "metadata": {},
   "outputs": [],
   "source": [
    "data = pd.read_csv('/Users/praveen/Desktop/patient_readmissions.csv', delimiter='\\t')"
   ]
  },
  {
   "cell_type": "code",
   "execution_count": 16,
   "id": "da78d1db",
   "metadata": {},
   "outputs": [
    {
     "name": "stdout",
     "output_type": "stream",
     "text": [
      "Index(['PATIENT_ID', 'AGE', 'GENDER', 'MEDICAL_HISTORY', 'LENGTH_OF_STAY',\n",
      "       'DISCHARGE_DIAGNOSIS', 'TREATMENT_RECEIVED', 'READMITTED'],\n",
      "      dtype='object')\n"
     ]
    }
   ],
   "source": [
    "print(data.columns)"
   ]
  },
  {
   "cell_type": "code",
   "execution_count": 17,
   "id": "0676ac84",
   "metadata": {},
   "outputs": [
    {
     "name": "stdout",
     "output_type": "stream",
     "text": [
      "Yes    505\n",
      "No     495\n",
      "Name: READMITTED, dtype: int64\n"
     ]
    }
   ],
   "source": [
    "print(data['READMITTED'].value_counts())"
   ]
  },
  {
   "cell_type": "markdown",
   "id": "14812fca",
   "metadata": {},
   "source": [
    "# Data Visualization with Matplotlib"
   ]
  },
  {
   "cell_type": "code",
   "execution_count": 22,
   "id": "4ad77957",
   "metadata": {},
   "outputs": [
    {
     "name": "stdout",
     "output_type": "stream",
     "text": [
      "Index(['PATIENT_ID', 'AGE', 'GENDER', 'MEDICAL_HISTORY', 'LENGTH_OF_STAY',\n",
      "       'DISCHARGE_DIAGNOSIS', 'TREATMENT_RECEIVED', 'READMITTED'],\n",
      "      dtype='object')\n"
     ]
    }
   ],
   "source": [
    "print(data.columns)"
   ]
  },
  {
   "cell_type": "code",
   "execution_count": 23,
   "id": "1458e0f6",
   "metadata": {},
   "outputs": [
    {
     "data": {
      "image/png": "[encoded data removed]",
      "text/plain": [
       "<Figure size 640x480 with 1 Axes>"
      ]
     },
     "metadata": {},
     "output_type": "display_data"
    }
   ],
   "source": [
    "import matplotlib.pyplot as plt\n",
    "\n",
    "plt.hist(data['AGE'], bins=10, color='blue', edgecolor='black')\n",
    "plt.title('Age Distribution')\n",
    "plt.xlabel('Age')\n",
    "plt.ylabel('Count')\n",
    "plt.show()"
   ]
  },
  {
   "cell_type": "code",
   "execution_count": 26,
   "id": "fb67ae1a",
   "metadata": {},
   "outputs": [],
   "source": [
    "data.columns = data.columns.str.strip()"
   ]
  },
  {
   "cell_type": "code",
   "execution_count": 27,
   "id": "a5dfa14e",
   "metadata": {},
   "outputs": [
    {
     "name": "stdout",
     "output_type": "stream",
     "text": [
      "Index(['PATIENT_ID', 'AGE', 'GENDER', 'MEDICAL_HISTORY', 'LENGTH_OF_STAY',\n",
      "       'DISCHARGE_DIAGNOSIS', 'TREATMENT_RECEIVED', 'READMITTED'],\n",
      "      dtype='object')\n"
     ]
    }
   ],
   "source": [
    "print(data.columns)"
   ]
  },
  {
   "cell_type": "code",
   "execution_count": 28,
   "id": "0d544c61",
   "metadata": {},
   "outputs": [
    {
     "name": "stdout",
     "output_type": "stream",
     "text": [
      "Yes    505\n",
      "No     495\n",
      "Name: READMITTED, dtype: int64\n"
     ]
    }
   ],
   "source": [
    "print(data['READMITTED'].value_counts())"
   ]
  },
  {
   "cell_type": "code",
   "execution_count": 29,
   "id": "8d360454",
   "metadata": {},
   "outputs": [
    {
     "name": "stdout",
     "output_type": "stream",
     "text": [
      "Index(['patient_id', 'age', 'gender', 'medical_history', 'length_of_stay',\n",
      "       'discharge_diagnosis', 'treatment_received', 'readmitted'],\n",
      "      dtype='object')\n"
     ]
    }
   ],
   "source": [
    "data.columns = data.columns.str.lower()\n",
    "print(data.columns)"
   ]
  },
  {
   "cell_type": "code",
   "execution_count": 30,
   "id": "3533be5e",
   "metadata": {},
   "outputs": [
    {
     "name": "stdout",
     "output_type": "stream",
     "text": [
      "Yes    505\n",
      "No     495\n",
      "Name: readmitted, dtype: int64\n"
     ]
    }
   ],
   "source": [
    "print(data['readmitted'].value_counts())"
   ]
  },
  {
   "cell_type": "markdown",
   "id": "927a05ab",
   "metadata": {},
   "source": [
    "# Visualizing the Readmission Count Using a Bar Plot"
   ]
  },
  {
   "cell_type": "code",
   "execution_count": 32,
   "id": "57e906a4",
   "metadata": {},
   "outputs": [
    {
     "name": "stdout",
     "output_type": "stream",
     "text": [
      "'patient_id'\n",
      "'age'\n",
      "'gender'\n",
      "'medical_history'\n",
      "'length_of_stay'\n",
      "'discharge_diagnosis'\n",
      "'treatment_received'\n",
      "'readmitted'\n"
     ]
    }
   ],
   "source": [
    "for col in data.columns:\n",
    "    print(f\"'{col}'\")"
   ]
  },
  {
   "cell_type": "code",
   "execution_count": 33,
   "id": "38cfb646",
   "metadata": {},
   "outputs": [],
   "source": [
    "data.rename(columns=lambda x: x.strip(), inplace=True)  # Strips extra spaces\n",
    "data.rename(columns={'READMITTED ': 'READMITTED'}, inplace=True)  # Adjust column name if necessary"
   ]
  },
  {
   "cell_type": "code",
   "execution_count": 34,
   "id": "7604dd25",
   "metadata": {},
   "outputs": [],
   "source": [
    "data.rename(columns={'READMITTED ': 'READMITTED'}, inplace=True)"
   ]
  },
  {
   "cell_type": "code",
   "execution_count": 35,
   "id": "e3008293",
   "metadata": {},
   "outputs": [
    {
     "name": "stdout",
     "output_type": "stream",
     "text": [
      "False\n"
     ]
    }
   ],
   "source": [
    "print('READMITTED' in data.columns)  # Should return True if the column exists"
   ]
  },
  {
   "cell_type": "code",
   "execution_count": 36,
   "id": "c4417ee3",
   "metadata": {},
   "outputs": [
    {
     "name": "stdout",
     "output_type": "stream",
     "text": [
      "Index(['patient_id', 'age', 'gender', 'medical_history', 'length_of_stay',\n",
      "       'discharge_diagnosis', 'treatment_received', 'readmitted'],\n",
      "      dtype='object')\n"
     ]
    }
   ],
   "source": [
    "data.columns = data.columns.str.lower()\n",
    "print(data.columns)"
   ]
  },
  {
   "cell_type": "code",
   "execution_count": 37,
   "id": "861f5d91",
   "metadata": {},
   "outputs": [
    {
     "name": "stdout",
     "output_type": "stream",
     "text": [
      "Yes    505\n",
      "No     495\n",
      "Name: readmitted, dtype: int64\n"
     ]
    }
   ],
   "source": [
    "print(data['readmitted'].value_counts())"
   ]
  },
  {
   "cell_type": "code",
   "execution_count": 39,
   "id": "c9a456c3",
   "metadata": {},
   "outputs": [
    {
     "data": {
      "image/png": "[encoded data removed]",
      "text/plain": [
       "<Figure size 640x480 with 1 Axes>"
      ]
     },
     "metadata": {},
     "output_type": "display_data"
    }
   ],
   "source": [
    "import matplotlib.pyplot as plt\n",
    "\n",
    "# Plotting the count of readmitted vs. not readmitted\n",
    "data['readmitted'].value_counts().plot(kind='bar', color='green')\n",
    "plt.title('Readmission Count')\n",
    "plt.xlabel('Readmitted (Yes/No)')\n",
    "plt.ylabel('Count')\n",
    "plt.show()\n"
   ]
  },
  {
   "cell_type": "code",
   "execution_count": 40,
   "id": "b68c4063",
   "metadata": {},
   "outputs": [],
   "source": [
    "data_clean.to_csv('cleaned_patient_readmissions.csv', index=False)"
   ]
  },
  {
   "cell_type": "code",
   "execution_count": null,
   "id": "949b0b68",
   "metadata": {},
   "outputs": [],
   "source": []
  }
 ],
 "metadata": {
  "kernelspec": {
   "display_name": "Python 3 (ipykernel)",
   "language": "python",
   "name": "python3"
  },
  "language_info": {
   "codemirror_mode": {
    "name": "ipython",
    "version": 3
   },
   "file_extension": ".py",
   "mimetype": "text/x-python",
   "name": "python",
   "nbconvert_exporter": "python",
   "pygments_lexer": "ipython3",
   "version": "3.11.4"
  }
 },
 "nbformat": 4,
 "nbformat_minor": 5
}
